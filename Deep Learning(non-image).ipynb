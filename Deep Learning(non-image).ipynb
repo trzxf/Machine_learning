{
  "nbformat": 4,
  "nbformat_minor": 0,
  "metadata": {
    "colab": {
      "provenance": [],
      "include_colab_link": true
    },
    "kernelspec": {
      "name": "python3",
      "display_name": "Python 3"
    },
    "language_info": {
      "name": "python"
    }
  },
  "cells": [
    {
      "cell_type": "markdown",
      "metadata": {
        "id": "view-in-github",
        "colab_type": "text"
      },
      "source": [
        "<a href=\"https://colab.research.google.com/github/trzxf/Machine_learning/blob/main/Deep%20Learning(non-image).ipynb\" target=\"_parent\"><img src=\"https://colab.research.google.com/assets/colab-badge.svg\" alt=\"Open In Colab\"/></a>"
      ]
    },
    {
      "cell_type": "markdown",
      "metadata": {
        "id": "7Am7ICxoOexH"
      },
      "source": [
        "#The command below takes about 2 minutes to execute."
      ]
    },
    {
      "cell_type": "code",
      "metadata": {
        "colab": {
          "base_uri": "https://localhost:8080/"
        },
        "id": "JhStlkl9k48D",
        "outputId": "25d0e660-f2fb-447b-a100-97e229d054f4"
      },
      "source": [
        "!apt install octave"
      ],
      "execution_count": null,
      "outputs": [
        {
          "output_type": "stream",
          "text": [
            "Reading package lists... Done\n",
            "Building dependency tree       \n",
            "Reading state information... Done\n",
            "octave is already the newest version (4.2.2-1ubuntu1).\n",
            "0 upgraded, 0 newly installed, 0 to remove and 39 not upgraded.\n"
          ],
          "name": "stdout"
        }
      ]
    },
    {
      "cell_type": "markdown",
      "metadata": {
        "id": "IDO4zlF6OVea"
      },
      "source": [
        "#Simple Example of Matlab code in Colab"
      ]
    },
    {
      "cell_type": "code",
      "metadata": {
        "colab": {
          "base_uri": "https://localhost:8080/"
        },
        "id": "nQ-6s_jkk-iZ",
        "outputId": "9bd91e3f-fdfb-4c7a-9363-c369204ea5d9"
      },
      "source": [
        "%%writefile add.m\n",
        "x = 3\n",
        "y = 2\n",
        "display(x+y)"
      ],
      "execution_count": null,
      "outputs": [
        {
          "output_type": "stream",
          "text": [
            "Writing add.m\n"
          ],
          "name": "stdout"
        }
      ]
    },
    {
      "cell_type": "code",
      "metadata": {
        "id": "PnBFM2oSkxSu",
        "colab": {
          "base_uri": "https://localhost:8080/"
        },
        "outputId": "5c6cd605-4558-4fe8-d24f-a0fdb2ed3a6d"
      },
      "source": [
        "# -W : no window system\n",
        "!octave -W add.m"
      ],
      "execution_count": null,
      "outputs": [
        {
          "output_type": "stream",
          "text": [
            "x =  3\n",
            "y =  2\n",
            " 5\n"
          ],
          "name": "stdout"
        }
      ]
    },
    {
      "cell_type": "markdown",
      "metadata": {
        "id": "4XeCTPMYOPio"
      },
      "source": [
        "Black Scholes Model and results are correct"
      ]
    },
    {
      "cell_type": "code",
      "metadata": {
        "colab": {
          "base_uri": "https://localhost:8080/"
        },
        "id": "_2vNroF5li3h",
        "outputId": "31b9e847-bc0b-44cb-f866-5587316ffef2"
      },
      "source": [
        "%%writefile bs.m\n",
        "\n",
        "S = 100\n",
        "X = 100\n",
        "r = 0.05\n",
        "v = 0.2\n",
        "T = 1\n",
        "\n",
        "%Black and Scholes in Matlab\n",
        "\n",
        "d1=(log(S/X)+(r+v^2/2)*T)/(v*sqrt(T));\n",
        "d2=d1-v*sqrt(T);\n",
        "c = S*normcdf(d1)-X*exp(-r*T)*normcdf(d2)\n",
        "\n",
        "\n"
      ],
      "execution_count": null,
      "outputs": [
        {
          "output_type": "stream",
          "text": [
            "Writing bs.m\n"
          ],
          "name": "stdout"
        }
      ]
    },
    {
      "cell_type": "code",
      "metadata": {
        "colab": {
          "base_uri": "https://localhost:8080/"
        },
        "id": "QREkfKdvnusa",
        "outputId": "bf877ed8-2508-4704-bffd-93bc1d359d5d"
      },
      "source": [
        "# -W : no window system\n",
        "!octave -W bs.m"
      ],
      "execution_count": null,
      "outputs": [
        {
          "output_type": "stream",
          "text": [
            "S =  100\n",
            "X =  100\n",
            "r =  0.050000\n",
            "v =  0.20000\n",
            "T =  1\n",
            "c =  10.451\n"
          ],
          "name": "stdout"
        }
      ]
    },
    {
      "cell_type": "markdown",
      "metadata": {
        "id": "3jKukx2aN4P_"
      },
      "source": [
        "#Results below have not been checked for Trinomial Model. Chen's code is correct but I have not verified my own Implementation - so please treat with great care and please do not quote me on results produced below."
      ]
    },
    {
      "cell_type": "markdown",
      "metadata": {
        "id": "j15sq253qGXY"
      },
      "source": [
        "https://uk.mathworks.com/matlabcentral/fileexchange/50177-lattice-methods-for-option-pricing\n",
        "\n",
        "Boyle Trinomial"
      ]
    },
    {
      "cell_type": "code",
      "metadata": {
        "colab": {
          "base_uri": "https://localhost:8080/"
        },
        "id": "SfXFTIm8ptvK",
        "outputId": "0b1628bf-bf16-46d5-af4d-efdf3a67cf4c"
      },
      "source": [
        "%%writefile triBoyle.m\n",
        "\n",
        "%function [OptionPrice, TrinLatticeUnderlying, TrinLatticeOption] = ...\n",
        "%                   priceOptionTrinBoyle(Underlying, Strike, Rate, T, ...\n",
        "%                  NumOfTimeSteps, Sigma, StrCallPut)\n",
        "% The function calculates a standard European option price by using\n",
        "% the Boyle trinomial model\n",
        "% Ref: Kamrad, B., Ritchken, P., 1991.\n",
        "% Multinomial approximating models for options with k state variables.\n",
        "% Management Science 37 (23), 1640¨C1652.\n",
        "%\n",
        "% Input:\n",
        "% Underlying: initial value of underlying price\n",
        "% Strike: strike/exercise price\n",
        "% Rate: continuous-time risk-less rate\n",
        "% T: in terms of year format\n",
        "% NumOfTimeSteps: how many steps specified for T, where dt := T/TimeSteps\n",
        "% Sigma: volatility\n",
        "% StrCallPut: 'Call' or 'Put' (default is 'Call')\n",
        "%\n",
        "% Output:\n",
        "% OptionPrice\n",
        "% BinLatticeUnderlying\n",
        "% BinLatticeOption\n",
        "%\n",
        "% Bowei Chen | PhD\n",
        "% University College London\n",
        "% bowei.chen@cs.ucl.ac.uk\n",
        "% 03/2015\n",
        "\n",
        "Underlying = 100\n",
        "Strike = 100\n",
        "Rate = 0.05\n",
        "T = 1\n",
        "NumOfTimeSteps = 100\n",
        "Sigma = 0.2\n",
        "StrCallPut = 'Call'\n",
        "\n",
        "function PayoffValue = calcPayoff(Underlying, Strike, StrCallPut)\n",
        "% The function calculates a standard European option payoff\n",
        "\n",
        "if strcmp(StrCallPut, 'put') || strcmp(StrCallPut, 'Put')\n",
        "    PayoffValue = max(Strike - Underlying, 0);\n",
        "else\n",
        "    PayoffValue = max(Underlying - Strike, 0);\n",
        "end\n",
        "end % end of func\n",
        "\n",
        "function DataStructure = buildLattice(NumOfTimeSteps, StrBinTrin)\n",
        "% The function creates a binomial/trinomial lattice\n",
        "% Input:\n",
        "% NumOfTimeSteps\n",
        "% StrBinTrin\n",
        "%\n",
        "% Output:\n",
        "% LatticeStructure (start with time 1)\n",
        "\n",
        "DataStructure = '';\n",
        "if strcmp(StrBinTrin, 'trin') || strcmp(StrBinTrin, 'Trin')\n",
        "    for i = 1:NumOfTimeSteps\n",
        "        DataStructure{i} = nan(1,2*i-1);\n",
        "    end\n",
        "else\n",
        "    for i = 1:NumOfTimeSteps\n",
        "        DataStructure{i} = nan(1,i);\n",
        "    end\n",
        "end\n",
        "end % end of func\n",
        "\n",
        "%% Initialization\n",
        "dt = T / NumOfTimeSteps;\n",
        "r = exp(Rate * dt);\n",
        "lam = 1.1;\n",
        "g = r^2 * (exp(Sigma^2 * dt) - 1);\n",
        "u = exp(lam * Sigma * sqrt(dt));\n",
        "m = 1;\n",
        "d = exp(- lam * Sigma * sqrt(dt));\n",
        "q1 = ((g + r^2 - r)*u - (r-1))/((u-1)*(u^2-1));\n",
        "q3 = ((g + r^2 - r)*u^2 - (r-1) * u^3)/((u-1)*(u^2-1));\n",
        "q2 = 1 - q1 - q3;\n",
        "%% Loop over each node of underlying price tree\n",
        "TrinLatticeUnderlying = buildLattice(NumOfTimeSteps+1, 'trin');\n",
        "TrinLatticeUnderlying{1}(1) = Underlying;\n",
        "for Idx = 2:NumOfTimeSteps+1\n",
        "    TrinLatticeUnderlying{Idx}(1) = TrinLatticeUnderlying{Idx-1}(1)*u;\n",
        "    TrinLatticeUnderlying{Idx}(2) = TrinLatticeUnderlying{Idx-1}(1)*m;\n",
        "    TrinLatticeUnderlying{Idx}(3) = TrinLatticeUnderlying{Idx-1}(1)*d;\n",
        "    x = length(TrinLatticeUnderlying{Idx});\n",
        "    if  x > 3\n",
        "        for k = 4:x\n",
        "            TrinLatticeUnderlying{Idx}(k) = TrinLatticeUnderlying{Idx-1}(k-2)*d;\n",
        "        end\n",
        "    end\n",
        "    clear x\n",
        "end\n",
        "%% Calculate the value at expiry\n",
        "TrinLatticeOption = buildLattice(NumOfTimeSteps+1, 'trin');\n",
        "for k = 1:length(TrinLatticeOption{end})\n",
        "    TrinLatticeOption{end}(k) = calcPayoff(TrinLatticeUnderlying{end}(k), ...\n",
        "        Strike, StrCallPut);\n",
        "end\n",
        "%% Loop backwards to get values at the earlier times\n",
        "for Idx = NumOfTimeSteps:-1:1\n",
        "    for k = 1:length(TrinLatticeOption{Idx})\n",
        "        TrinLatticeOption{Idx}(k) = ...\n",
        "            r^-1 * (q1 * TrinLatticeOption{Idx+1}(k) ...\n",
        "                + q2 * TrinLatticeOption{Idx+1}(k+1) ...\n",
        "                + q3 * TrinLatticeOption{Idx+1}(k+2));\n",
        "    end\n",
        "end\n",
        "OptionPrice = TrinLatticeOption{1}(1);\n",
        "\n",
        "OptionPrice\n"
      ],
      "execution_count": null,
      "outputs": [
        {
          "output_type": "stream",
          "text": [
            "Overwriting triBoyle.m\n"
          ],
          "name": "stdout"
        }
      ]
    },
    {
      "cell_type": "code",
      "metadata": {
        "colab": {
          "base_uri": "https://localhost:8080/"
        },
        "id": "CzVrgy92rfg1",
        "outputId": "85962f1f-e47b-4e1d-adaa-f12c2eb59e94"
      },
      "source": [
        "# -W : no window system\n",
        "!octave -W triBoyle.m"
      ],
      "execution_count": null,
      "outputs": [
        {
          "output_type": "stream",
          "text": [
            "Underlying =  100\n",
            "Strike =  100\n",
            "Rate =  0.050000\n",
            "T =  1\n",
            "NumOfTimeSteps =  100\n",
            "Sigma =  0.20000\n",
            "StrCallPut = Call\n",
            "OptionPrice =  10.452\n"
          ],
          "name": "stdout"
        }
      ]
    },
    {
      "cell_type": "markdown",
      "metadata": {
        "id": "y8o1w94dt3PS"
      },
      "source": [
        "https://uk.mathworks.com/matlabcentral/fileexchange/50177-lattice-methods-for-option-pricing"
      ]
    },
    {
      "cell_type": "code",
      "metadata": {
        "colab": {
          "base_uri": "https://localhost:8080/"
        },
        "id": "12IPvTclszla",
        "outputId": "cfa70ccb-ded5-4c0c-87b7-a5a8a0b63745"
      },
      "source": [
        "%%writefile triKR.m\n",
        "\n",
        "Underlying = 100\n",
        "Strike = 100\n",
        "Rate = 0.05\n",
        "T = 1\n",
        "NumOfTimeSteps = 100\n",
        "Sigma = 0.2\n",
        "StrCallPut = 'Call'\n",
        "\n",
        "function PayoffValue = calcPayoff(Underlying, Strike, StrCallPut)\n",
        "% The function calculates a standard European option payoff\n",
        "\n",
        "if strcmp(StrCallPut, 'put') || strcmp(StrCallPut, 'Put')\n",
        "    PayoffValue = max(Strike - Underlying, 0);\n",
        "else\n",
        "    PayoffValue = max(Underlying - Strike, 0);\n",
        "end\n",
        "end % end of func\n",
        "\n",
        "function DataStructure = buildLattice(NumOfTimeSteps, StrBinTrin)\n",
        "% The function creates a binomial/trinomial lattice\n",
        "% Input:\n",
        "% NumOfTimeSteps\n",
        "% StrBinTrin\n",
        "%\n",
        "% Output:\n",
        "% LatticeStructure (start with time 1)\n",
        "\n",
        "DataStructure = '';\n",
        "if strcmp(StrBinTrin, 'trin') || strcmp(StrBinTrin, 'Trin')\n",
        "    for i = 1:NumOfTimeSteps\n",
        "        DataStructure{i} = nan(1,2*i-1);\n",
        "    end\n",
        "else\n",
        "    for i = 1:NumOfTimeSteps\n",
        "        DataStructure{i} = nan(1,i);\n",
        "    end\n",
        "end\n",
        "end % end of func\n",
        "\n",
        "%% Initialization\n",
        "%% Initialization\n",
        "dt = T / NumOfTimeSteps;\n",
        "r = exp(Rate * dt);\n",
        "lam = 1.3;\n",
        "u = exp(lam * Sigma * sqrt(dt));\n",
        "m = 1;\n",
        "d = exp(- lam * Sigma * sqrt(dt));\n",
        "q1 = 1/(2*lam^2) + ((Rate - 1/2 * Sigma^2) * sqrt(dt))/(2 * lam * Sigma);\n",
        "q2 = 1 - 1/(lam^2);\n",
        "q3 = 1/(2*lam^2) - ((Rate - 1/2 * Sigma^2) * sqrt(dt))/(2 * lam * Sigma);\n",
        "%% Loop over each node of underlying price tree\n",
        "TrinLatticeUnderlying = buildLattice(NumOfTimeSteps+1, 'trin');\n",
        "TrinLatticeUnderlying{1}(1) = Underlying;\n",
        "for Idx = 2:NumOfTimeSteps+1\n",
        "    TrinLatticeUnderlying{Idx}(1) = TrinLatticeUnderlying{Idx-1}(1)*u;\n",
        "    TrinLatticeUnderlying{Idx}(2) = TrinLatticeUnderlying{Idx-1}(1)*m;\n",
        "    TrinLatticeUnderlying{Idx}(3) = TrinLatticeUnderlying{Idx-1}(1)*d;\n",
        "    x = length(TrinLatticeUnderlying{Idx});\n",
        "    if  x > 3\n",
        "        for k = 4:x\n",
        "            TrinLatticeUnderlying{Idx}(k) = TrinLatticeUnderlying{Idx-1}(k-2)*d;\n",
        "        end\n",
        "    end\n",
        "    clear x\n",
        "end\n",
        "%% Calculate the value at expiry\n",
        "TrinLatticeOption = buildLattice(NumOfTimeSteps+1, 'trin');\n",
        "for k = 1:length(TrinLatticeOption{end})\n",
        "    TrinLatticeOption{end}(k) = calcPayoff(TrinLatticeUnderlying{end}(k), ...\n",
        "        Strike, StrCallPut);\n",
        "end\n",
        "%% Loop backwards to get values at the earlier times\n",
        "for Idx = NumOfTimeSteps:-1:1\n",
        "    for k = 1:length(TrinLatticeOption{Idx})\n",
        "        TrinLatticeOption{Idx}(k) = ...\n",
        "            r^-1 * (q1 * TrinLatticeOption{Idx+1}(k) ...\n",
        "                + q2 * TrinLatticeOption{Idx+1}(k+1) ...\n",
        "                + q3 * TrinLatticeOption{Idx+1}(k+2));\n",
        "    end\n",
        "end\n",
        "OptionPrice = TrinLatticeOption{1}(1);\n",
        "\n",
        "OptionPrice"
      ],
      "execution_count": null,
      "outputs": [
        {
          "output_type": "stream",
          "text": [
            "Writing triKR.m\n"
          ],
          "name": "stdout"
        }
      ]
    },
    {
      "cell_type": "code",
      "metadata": {
        "colab": {
          "base_uri": "https://localhost:8080/"
        },
        "id": "-vPGbH5mtvvm",
        "outputId": "de1f0110-c519-44c2-bb43-cf5eab50b431"
      },
      "source": [
        "# -W : no window system\n",
        "!octave -W triKR.m"
      ],
      "execution_count": null,
      "outputs": [
        {
          "output_type": "stream",
          "text": [
            "Underlying =  100\n",
            "Strike =  100\n",
            "Rate =  0.050000\n",
            "T =  1\n",
            "NumOfTimeSteps =  100\n",
            "Sigma =  0.20000\n",
            "StrCallPut = Call\n",
            "OptionPrice =  10.443\n"
          ],
          "name": "stdout"
        }
      ]
    }
  ]
}